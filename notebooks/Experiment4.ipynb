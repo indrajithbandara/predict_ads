{
 "cells": [
  {
   "cell_type": "code",
   "execution_count": 1,
   "metadata": {
    "collapsed": true
   },
   "outputs": [],
   "source": [
    "%matplotlib inline\n",
    "\n",
    "import pandas as pd\n",
    "import numpy as np\n",
    "import scipy as sp\n",
    "\n",
    "import time\n",
    "import gc\n",
    "\n",
    "from sklearn.metrics import roc_auc_score\n",
    "from sklearn.linear_model import LogisticRegression\n",
    "import xgboost as xgb\n",
    "\n",
    "import matplotlib.pyplot as plt\n",
    "import seaborn as sns\n",
    "\n",
    "sns.set_style('dark')\n",
    "\n",
    "SEED = 1231\n",
    "np.random.seed(SEED)\n",
    "\n",
    "import warnings\n",
    "warnings.filterwarnings('ignore')"
   ]
  },
  {
   "cell_type": "code",
   "execution_count": 2,
   "metadata": {
    "collapsed": false
   },
   "outputs": [],
   "source": [
    "# load only a subsection of columns\n",
    "dtypes = {\n",
    "    'click': 'uint8'\n",
    "}\n",
    "\n",
    "train = pd.read_csv('../data/raw/205e1808-6-dataset/train.csv', \n",
    "                    usecols=['ID', 'datetime', 'browserid', 'devid', 'click', 'countrycode'],\n",
    "                    parse_dates=['datetime'],\n",
    "                    dtype=dtypes\n",
    "                   )\n",
    "\n",
    "# test = pd.read_csv('../data/raw/205e1808-6-dataset/train.csv', \n",
    "#                     usecols=['ID', 'datetime', 'browserid', 'devid'],\n",
    "#                     dtype=dtypes, \n",
    "#                     parse_dates=['datetime']\n",
    "#                    )"
   ]
  },
  {
   "cell_type": "code",
   "execution_count": 3,
   "metadata": {
    "collapsed": true
   },
   "outputs": [],
   "source": [
    "replacement = {\n",
    "    'Chrome': 'Google Chrome',\n",
    "    'IE'    : 'Internet Explorer',\n",
    "    'InternetExplorer': 'Internet Explorer',\n",
    "    'Firefox': 'Mozilla Firefox',\n",
    "    'Mozilla': 'Mozilla Firefox'\n",
    "}"
   ]
  },
  {
   "cell_type": "code",
   "execution_count": 4,
   "metadata": {
    "collapsed": false
   },
   "outputs": [],
   "source": [
    "train = train.assign(hour_of_day=train.datetime.dt.hour)\n",
    "train.loc[:, 'hour_of_day'] = train.hour_of_day.astype('uint8')\n",
    "\n",
    "train.loc[:, 'browserid']   = train.browserid.replace(replacement)\n",
    "train.loc[:, 'devid']       = train.devid.fillna('missing') # fill missing values"
   ]
  },
  {
   "cell_type": "code",
   "execution_count": 12,
   "metadata": {
    "collapsed": true
   },
   "outputs": [],
   "source": [
    "hour_ohe     = pd.get_dummies(train.hour_of_day, prefix='hour', sparse=True, drop_first=True)\n",
    "browser_ohe  = pd.get_dummies(train.browserid, prefix='browser', sparse=True, drop_first=True)\n",
    "device_ohe   = pd.get_dummies(train.devid, prefix='device', sparse=True, drop_first=True)\n",
    "country_ohe  = pd.get_dummies(train.countrycode, prefix='country', sparse=True, drop_first=True)\n",
    "\n",
    "X = sp.hstack((hour_ohe, \n",
    "               browser_ohe, \n",
    "               device_ohe,\n",
    "               country_ohe\n",
    "               ))\n",
    "\n",
    "y = train.click.values"
   ]
  },
  {
   "cell_type": "code",
   "execution_count": 6,
   "metadata": {
    "collapsed": false
   },
   "outputs": [],
   "source": [
    "ntrain = int(0.7 * len(train))\n",
    "\n",
    "X_train = X[:ntrain]\n",
    "y_train = y[:ntrain]\n",
    "\n",
    "X_val   = X[ntrain:]\n",
    "y_val   = y[ntrain:]"
   ]
  },
  {
   "cell_type": "code",
   "execution_count": 7,
   "metadata": {
    "collapsed": false
   },
   "outputs": [
    {
     "data": {
      "text/plain": [
       "189"
      ]
     },
     "execution_count": 7,
     "metadata": {},
     "output_type": "execute_result"
    }
   ],
   "source": [
    "del X, y # have to remove these to have any chance of this getting included in memory\n",
    "gc.collect()"
   ]
  },
  {
   "cell_type": "code",
   "execution_count": 8,
   "metadata": {
    "collapsed": false
   },
   "outputs": [
    {
     "data": {
      "text/plain": [
       "(3641343, 3641343)"
      ]
     },
     "execution_count": 8,
     "metadata": {},
     "output_type": "execute_result"
    }
   ],
   "source": [
    "len(X_val), len(y_val)"
   ]
  },
  {
   "cell_type": "code",
   "execution_count": 10,
   "metadata": {
    "collapsed": false
   },
   "outputs": [
    {
     "name": "stdout",
     "output_type": "stream",
     "text": [
      "ROC AUC score: 0.9641162395900584\n"
     ]
    }
   ],
   "source": [
    "model = LogisticRegression(C=10., class_weight='auto', n_jobs=-1, random_state=SEED)\n",
    "model.fit(X_train, y_train)\n",
    "\n",
    "preds = model.predict_proba(X_val)[:, 1]\n",
    "print('ROC AUC score: {}'.format(roc_auc_score(y_val, preds)))"
   ]
  },
  {
   "cell_type": "code",
   "execution_count": 11,
   "metadata": {
    "collapsed": false
   },
   "outputs": [
    {
     "data": {
      "text/plain": [
       "0"
      ]
     },
     "execution_count": 11,
     "metadata": {},
     "output_type": "execute_result"
    }
   ],
   "source": [
    "del X_train, X_val, y_train, y_val\n",
    "gc.collect()"
   ]
  },
  {
   "cell_type": "markdown",
   "metadata": {},
   "source": [
    "## Full Training"
   ]
  },
  {
   "cell_type": "code",
   "execution_count": 13,
   "metadata": {
    "collapsed": false
   },
   "outputs": [
    {
     "name": "stdout",
     "output_type": "stream",
     "text": [
      "Took: 69.14384099999998 seconds to train model on full data\n"
     ]
    }
   ],
   "source": [
    "st    = time.clock()\n",
    "model = LogisticRegression(C=10, class_weight='auto', n_jobs=-1, random_state=SEED)\n",
    "model.fit(X, y)\n",
    "et    = time.clock()\n",
    "\n",
    "print('Took: {} seconds to train model on full data'.format((et - st)))"
   ]
  },
  {
   "cell_type": "code",
   "execution_count": 14,
   "metadata": {
    "collapsed": false
   },
   "outputs": [
    {
     "data": {
      "text/plain": [
       "90"
      ]
     },
     "execution_count": 14,
     "metadata": {},
     "output_type": "execute_result"
    }
   ],
   "source": [
    "del train, X, y, hour_ohe, browser_ohe, device_ohe\n",
    "gc.collect()"
   ]
  },
  {
   "cell_type": "code",
   "execution_count": 18,
   "metadata": {
    "collapsed": false
   },
   "outputs": [],
   "source": [
    "test = pd.read_csv('../data/raw/205e1808-6-dataset/test.csv', \n",
    "                    usecols=['ID', 'datetime', 'countrycode', 'browserid', 'devid'],\n",
    "                    parse_dates=['datetime']\n",
    "                   )\n",
    "\n",
    "test = test.assign(hour_of_day=test.datetime.dt.hour)\n",
    "test.loc[:, 'hour_of_day'] = test.hour_of_day.astype('uint8')\n",
    "\n",
    "test.loc[:, 'browserid']   = test.browserid.replace(replacement)\n",
    "test.loc[:, 'devid']       = test.devid.fillna('missing') # fill missing values"
   ]
  },
  {
   "cell_type": "code",
   "execution_count": 19,
   "metadata": {
    "collapsed": false
   },
   "outputs": [],
   "source": [
    "hour_ohe     = pd.get_dummies(test.hour_of_day, prefix='hour', sparse=True, drop_first=True)\n",
    "browser_ohe  = pd.get_dummies(test.browserid, prefix='browser', sparse=True, drop_first=True)\n",
    "device_ohe   = pd.get_dummies(test.devid, prefix='device', sparse=True, drop_first=True)\n",
    "country_ohe  = pd.get_dummies(test.countrycode, prefix='country', sparse=True, drop_first=True)\n",
    "\n",
    "Xtest = sp.hstack((hour_ohe, \n",
    "               browser_ohe, \n",
    "               device_ohe,\n",
    "               country_ohe\n",
    "               ))\n"
   ]
  },
  {
   "cell_type": "code",
   "execution_count": 20,
   "metadata": {
    "collapsed": false
   },
   "outputs": [],
   "source": [
    "final_preds = model.predict_proba(Xtest)[:, 1]"
   ]
  },
  {
   "cell_type": "code",
   "execution_count": 21,
   "metadata": {
    "collapsed": true
   },
   "outputs": [],
   "source": [
    "sub = pd.read_csv('../data/raw/205e1808-6-dataset/sample_submission.csv')"
   ]
  },
  {
   "cell_type": "code",
   "execution_count": 22,
   "metadata": {
    "collapsed": false
   },
   "outputs": [
    {
     "data": {
      "text/html": [
       "<div>\n",
       "<table border=\"1\" class=\"dataframe\">\n",
       "  <thead>\n",
       "    <tr style=\"text-align: right;\">\n",
       "      <th></th>\n",
       "      <th>ID</th>\n",
       "      <th>click</th>\n",
       "    </tr>\n",
       "  </thead>\n",
       "  <tbody>\n",
       "    <tr>\n",
       "      <th>0</th>\n",
       "      <td>IDE4beP</td>\n",
       "      <td>0.5</td>\n",
       "    </tr>\n",
       "    <tr>\n",
       "      <th>1</th>\n",
       "      <td>IDfo26Y</td>\n",
       "      <td>0.5</td>\n",
       "    </tr>\n",
       "    <tr>\n",
       "      <th>2</th>\n",
       "      <td>IDYZM6I</td>\n",
       "      <td>0.5</td>\n",
       "    </tr>\n",
       "    <tr>\n",
       "      <th>3</th>\n",
       "      <td>ID8CVw1</td>\n",
       "      <td>0.5</td>\n",
       "    </tr>\n",
       "  </tbody>\n",
       "</table>\n",
       "</div>"
      ],
      "text/plain": [
       "        ID  click\n",
       "0  IDE4beP    0.5\n",
       "1  IDfo26Y    0.5\n",
       "2  IDYZM6I    0.5\n",
       "3  ID8CVw1    0.5"
      ]
     },
     "execution_count": 22,
     "metadata": {},
     "output_type": "execute_result"
    }
   ],
   "source": [
    "sub.head(4)"
   ]
  },
  {
   "cell_type": "code",
   "execution_count": 23,
   "metadata": {
    "collapsed": true
   },
   "outputs": [],
   "source": [
    "sub.loc[:, 'ID']    = test['ID']\n",
    "sub.loc[:, 'click'] = final_preds"
   ]
  },
  {
   "cell_type": "code",
   "execution_count": 24,
   "metadata": {
    "collapsed": false
   },
   "outputs": [
    {
     "data": {
      "text/html": [
       "<div>\n",
       "<table border=\"1\" class=\"dataframe\">\n",
       "  <thead>\n",
       "    <tr style=\"text-align: right;\">\n",
       "      <th></th>\n",
       "      <th>ID</th>\n",
       "      <th>click</th>\n",
       "    </tr>\n",
       "  </thead>\n",
       "  <tbody>\n",
       "    <tr>\n",
       "      <th>0</th>\n",
       "      <td>IDFDJVI</td>\n",
       "      <td>0.018282</td>\n",
       "    </tr>\n",
       "    <tr>\n",
       "      <th>1</th>\n",
       "      <td>IDNWkTQ</td>\n",
       "      <td>0.006955</td>\n",
       "    </tr>\n",
       "    <tr>\n",
       "      <th>2</th>\n",
       "      <td>ID9pRmM</td>\n",
       "      <td>0.052416</td>\n",
       "    </tr>\n",
       "    <tr>\n",
       "      <th>3</th>\n",
       "      <td>IDHaQaj</td>\n",
       "      <td>0.006112</td>\n",
       "    </tr>\n",
       "  </tbody>\n",
       "</table>\n",
       "</div>"
      ],
      "text/plain": [
       "        ID     click\n",
       "0  IDFDJVI  0.018282\n",
       "1  IDNWkTQ  0.006955\n",
       "2  ID9pRmM  0.052416\n",
       "3  IDHaQaj  0.006112"
      ]
     },
     "execution_count": 24,
     "metadata": {},
     "output_type": "execute_result"
    }
   ],
   "source": [
    "sub.head(4)"
   ]
  },
  {
   "cell_type": "code",
   "execution_count": 25,
   "metadata": {
    "collapsed": true
   },
   "outputs": [],
   "source": [
    "sub.to_csv('../submissions/log_reg_hour_browser_device_country.csv', index=False)"
   ]
  },
  {
   "cell_type": "code",
   "execution_count": null,
   "metadata": {
    "collapsed": true
   },
   "outputs": [],
   "source": []
  },
  {
   "cell_type": "code",
   "execution_count": null,
   "metadata": {
    "collapsed": true
   },
   "outputs": [],
   "source": []
  }
 ],
 "metadata": {
  "kernelspec": {
   "display_name": "Python 3",
   "language": "python",
   "name": "python3"
  },
  "language_info": {
   "codemirror_mode": {
    "name": "ipython",
    "version": 3
   },
   "file_extension": ".py",
   "mimetype": "text/x-python",
   "name": "python",
   "nbconvert_exporter": "python",
   "pygments_lexer": "ipython3",
   "version": "3.6.0"
  }
 },
 "nbformat": 4,
 "nbformat_minor": 2
}
