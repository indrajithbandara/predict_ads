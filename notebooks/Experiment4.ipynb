{
 "cells": [
  {
   "cell_type": "code",
   "execution_count": 1,
   "metadata": {
    "collapsed": true
   },
   "outputs": [],
   "source": [
    "%matplotlib inline\n",
    "\n",
    "import pandas as pd\n",
    "import numpy as np\n",
    "import scipy as sp\n",
    "\n",
    "import time\n",
    "import gc\n",
    "\n",
    "from sklearn.metrics import roc_auc_score\n",
    "from sklearn.linear_model import LogisticRegression\n",
    "import xgboost as xgb\n",
    "\n",
    "import matplotlib.pyplot as plt\n",
    "import seaborn as sns\n",
    "\n",
    "sns.set_style('dark')\n",
    "\n",
    "SEED = 1231\n",
    "np.random.seed(SEED)\n",
    "\n",
    "import warnings\n",
    "warnings.filterwarnings('ignore')"
   ]
  },
  {
   "cell_type": "code",
   "execution_count": 17,
   "metadata": {
    "collapsed": false
   },
   "outputs": [],
   "source": [
    "# load only a subsection of columns\n",
    "dtypes = {\n",
    "    'category': 'uint32'\n",
    "}\n",
    "\n",
    "train = pd.read_csv('../data/raw/205e1808-6-dataset/train.csv', \n",
    "                    usecols=['ID', 'siteid', 'datetime', 'category', 'click'],\n",
    "                    dtype=dtypes, \n",
    "                    parse_dates=['datetime'],\n",
    "                    nrows=10000\n",
    "                   )"
   ]
  },
  {
   "cell_type": "code",
   "execution_count": 19,
   "metadata": {
    "collapsed": false
   },
   "outputs": [],
   "source": [
    "train = train.assign(hour_of_day=train.datetime.dt.hour)\n",
    "train.loc[:, 'hour_of_day'] = train.hour_of_day.astype('uint8')\n",
    "\n",
    "train = train.assign(weekday=train.datetime.dt.weekday)\n",
    "train.loc[:, 'weekday'] = train.weekday.astype('uint8')\n",
    "\n",
    "train = train.assign(prime_time=train.hour_of_day.isin([0, 1, 19, 20, 21, 22, 23]).astype('uint8'))\n",
    "train = train.assign(category_freq=train.groupby('category')['category'].transform(lambda x: len(x)))\n",
    "train = train.assign(site_freq=train.groupby('siteid')['siteid'].transform(lambda x: len(x)))\n",
    "\n",
    "y  = train.click"
   ]
  },
  {
   "cell_type": "code",
   "execution_count": 18,
   "metadata": {
    "collapsed": true
   },
   "outputs": [],
   "source": [
    "training_mask   = (train.datetime < '2017/01/14') | (train.datetime > '2017/01/16')\n",
    "validation_mask = ~training_mask"
   ]
  },
  {
   "cell_type": "code",
   "execution_count": 20,
   "metadata": {
    "collapsed": true
   },
   "outputs": [],
   "source": [
    "hour_ohe     = pd.get_dummies(train.hour_of_day, prefix='hour', sparse=True, drop_first=True)\n",
    "weekday_ohe  = pd.get_dummies(train.weekday, prefix='hour', sparse=True, drop_first=True)\n",
    "category_ohe = pd.get_dummies(train.category_freq, prefix='category', sparse=True, drop_first=True)\n",
    "siteid_ohe   = pd.get_dummies(train.site_freq, prefix='siteid', sparse=True, drop_first=True)\n",
    "\n",
    "X = sp.hstack((hour_ohe, \n",
    "               weekday_ohe, \n",
    "               category_ohe, \n",
    "               siteid_ohe,\n",
    "               train.prime_time.values.reshape(-1, 1)))"
   ]
  },
  {
   "cell_type": "code",
   "execution_count": 26,
   "metadata": {
    "collapsed": true
   },
   "outputs": [],
   "source": [
    "X_train = X[:7000]\n",
    "y_train = y[:7000]\n",
    "\n",
    "X_val   = X[7000:]\n",
    "y_val   = y[7000:]"
   ]
  },
  {
   "cell_type": "code",
   "execution_count": 27,
   "metadata": {
    "collapsed": false
   },
   "outputs": [
    {
     "name": "stdout",
     "output_type": "stream",
     "text": [
      "ROC AUC score: 0.6880500358758841\n"
     ]
    }
   ],
   "source": [
    "model = LogisticRegression(C=10., class_weight='auto', n_jobs=-1, random_state=SEED)\n",
    "model.fit(X_train, y_train)\n",
    "\n",
    "preds = model.predict_proba(X_val)[:, 1]\n",
    "print('ROC AUC score: {}'.format(roc_auc_score(y_val, preds)))"
   ]
  },
  {
   "cell_type": "code",
   "execution_count": 28,
   "metadata": {
    "collapsed": false
   },
   "outputs": [
    {
     "data": {
      "text/plain": [
       "322"
      ]
     },
     "execution_count": 28,
     "metadata": {},
     "output_type": "execute_result"
    }
   ],
   "source": [
    "del X_train, X_val, y_train, y_val\n",
    "gc.collect()"
   ]
  },
  {
   "cell_type": "code",
   "execution_count": 29,
   "metadata": {
    "collapsed": false
   },
   "outputs": [
    {
     "name": "stdout",
     "output_type": "stream",
     "text": [
      "Took: 0.053937000000000346 seconds to train model on full data\n"
     ]
    }
   ],
   "source": [
    "st    = time.clock()\n",
    "model = LogisticRegression(C=10, class_weight='auto', n_jobs=-1, random_state=SEED)\n",
    "model.fit(X, y)\n",
    "et    = time.clock()\n",
    "\n",
    "print('Took: {} seconds to train model on full data'.format((et - st)))"
   ]
  },
  {
   "cell_type": "code",
   "execution_count": 32,
   "metadata": {
    "collapsed": false
   },
   "outputs": [],
   "source": [
    "test = pd.read_csv('../data/raw/205e1808-6-dataset/test.csv', \n",
    "                    usecols=['ID', 'siteid', 'datetime', 'category'],\n",
    "                    dtype=dtypes, \n",
    "                    parse_dates=['datetime']\n",
    "                   )\n",
    "\n",
    "# test = test.assign(hour_of_day=test.datetime.dt.hour)\n",
    "# test.loc[:, 'hour_of_day'] = test.hour_of_day.astype('uint8')\n",
    "\n",
    "# test = test.assign(weekday=test.datetime.dt.weekday)\n",
    "# test.loc[:, 'weekday'] = test.weekday.astype('uint8')"
   ]
  },
  {
   "cell_type": "code",
   "execution_count": 33,
   "metadata": {
    "collapsed": true
   },
   "outputs": [],
   "source": [
    "test = test.assign(hour_of_day=test.datetime.dt.hour)\n",
    "test.loc[:, 'hour_of_day'] = test.hour_of_day.astype('uint8')\n",
    "\n",
    "test = test.assign(weekday=test.datetime.dt.weekday)\n",
    "test.loc[:, 'weekday'] = test.weekday.astype('uint8')\n",
    "\n",
    "test = test.assign(prime_time=test.hour_of_day.isin([0, 1, 19, 20, 21, 22, 23]).astype('uint8'))\n",
    "test = test.assign(category_freq=test.groupby('category')['category'].transform(lambda x: len(x)))\n",
    "test = test.assign(site_freq=test.groupby('siteid')['siteid'].transform(lambda x: len(x)))"
   ]
  },
  {
   "cell_type": "code",
   "execution_count": null,
   "metadata": {
    "collapsed": true
   },
   "outputs": [],
   "source": [
    "hour_ohe     = pd.get_dummies(test.hour_of_day, prefix='hour', sparse=True, drop_first=True)\n",
    "weekday_ohe  = pd.get_dummies(test.weekday, prefix='hour', sparse=True, drop_first=True)\n",
    "category_ohe = pd.get_dummies(test.category_freq, prefix='category', sparse=True, drop_first=True)\n",
    "siteid_ohe   = pd.get_dummies(test.site_freq, prefix='siteid', sparse=True, drop_first=True)\n",
    "\n",
    "Xtest = sp.hstack((hour_ohe, \n",
    "               weekday_ohe, \n",
    "               category_ohe, \n",
    "               siteid_ohe,\n",
    "               test.prime_time.values.reshape(-1, 1)))"
   ]
  },
  {
   "cell_type": "code",
   "execution_count": null,
   "metadata": {
    "collapsed": true
   },
   "outputs": [],
   "source": []
  },
  {
   "cell_type": "code",
   "execution_count": 36,
   "metadata": {
    "collapsed": true
   },
   "outputs": [],
   "source": [
    "Xtest  = pd.get_dummies(test.hour_of_day, prefix='hour', sparse=True, drop_first=True)"
   ]
  },
  {
   "cell_type": "code",
   "execution_count": 38,
   "metadata": {
    "collapsed": false
   },
   "outputs": [],
   "source": [
    "final_preds = model.predict_proba(Xtest)[:, 1]"
   ]
  },
  {
   "cell_type": "code",
   "execution_count": 41,
   "metadata": {
    "collapsed": true
   },
   "outputs": [],
   "source": [
    "sub = pd.read_csv('../data/raw/205e1808-6-dataset/sample_submission.csv')"
   ]
  },
  {
   "cell_type": "code",
   "execution_count": 42,
   "metadata": {
    "collapsed": false
   },
   "outputs": [
    {
     "data": {
      "text/html": [
       "<div>\n",
       "<table border=\"1\" class=\"dataframe\">\n",
       "  <thead>\n",
       "    <tr style=\"text-align: right;\">\n",
       "      <th></th>\n",
       "      <th>ID</th>\n",
       "      <th>click</th>\n",
       "    </tr>\n",
       "  </thead>\n",
       "  <tbody>\n",
       "    <tr>\n",
       "      <th>0</th>\n",
       "      <td>IDE4beP</td>\n",
       "      <td>0.5</td>\n",
       "    </tr>\n",
       "    <tr>\n",
       "      <th>1</th>\n",
       "      <td>IDfo26Y</td>\n",
       "      <td>0.5</td>\n",
       "    </tr>\n",
       "    <tr>\n",
       "      <th>2</th>\n",
       "      <td>IDYZM6I</td>\n",
       "      <td>0.5</td>\n",
       "    </tr>\n",
       "    <tr>\n",
       "      <th>3</th>\n",
       "      <td>ID8CVw1</td>\n",
       "      <td>0.5</td>\n",
       "    </tr>\n",
       "  </tbody>\n",
       "</table>\n",
       "</div>"
      ],
      "text/plain": [
       "        ID  click\n",
       "0  IDE4beP    0.5\n",
       "1  IDfo26Y    0.5\n",
       "2  IDYZM6I    0.5\n",
       "3  ID8CVw1    0.5"
      ]
     },
     "execution_count": 42,
     "metadata": {},
     "output_type": "execute_result"
    }
   ],
   "source": [
    "sub.head(4)"
   ]
  },
  {
   "cell_type": "code",
   "execution_count": 43,
   "metadata": {
    "collapsed": true
   },
   "outputs": [],
   "source": [
    "sub.loc[:, 'ID']    = test['ID']\n",
    "sub.loc[:, 'click'] = final_preds"
   ]
  },
  {
   "cell_type": "code",
   "execution_count": 44,
   "metadata": {
    "collapsed": false
   },
   "outputs": [
    {
     "data": {
      "text/html": [
       "<div>\n",
       "<table border=\"1\" class=\"dataframe\">\n",
       "  <thead>\n",
       "    <tr style=\"text-align: right;\">\n",
       "      <th></th>\n",
       "      <th>ID</th>\n",
       "      <th>click</th>\n",
       "    </tr>\n",
       "  </thead>\n",
       "  <tbody>\n",
       "    <tr>\n",
       "      <th>0</th>\n",
       "      <td>IDFDJVI</td>\n",
       "      <td>0.030621</td>\n",
       "    </tr>\n",
       "    <tr>\n",
       "      <th>1</th>\n",
       "      <td>IDNWkTQ</td>\n",
       "      <td>0.027961</td>\n",
       "    </tr>\n",
       "    <tr>\n",
       "      <th>2</th>\n",
       "      <td>ID9pRmM</td>\n",
       "      <td>0.032886</td>\n",
       "    </tr>\n",
       "    <tr>\n",
       "      <th>3</th>\n",
       "      <td>IDHaQaj</td>\n",
       "      <td>0.025048</td>\n",
       "    </tr>\n",
       "  </tbody>\n",
       "</table>\n",
       "</div>"
      ],
      "text/plain": [
       "        ID     click\n",
       "0  IDFDJVI  0.030621\n",
       "1  IDNWkTQ  0.027961\n",
       "2  ID9pRmM  0.032886\n",
       "3  IDHaQaj  0.025048"
      ]
     },
     "execution_count": 44,
     "metadata": {},
     "output_type": "execute_result"
    }
   ],
   "source": [
    "sub.head(4)"
   ]
  },
  {
   "cell_type": "code",
   "execution_count": 45,
   "metadata": {
    "collapsed": true
   },
   "outputs": [],
   "source": [
    "sub.to_csv('../submissions/log_reg_hour.csv', index=False)"
   ]
  },
  {
   "cell_type": "code",
   "execution_count": null,
   "metadata": {
    "collapsed": true
   },
   "outputs": [],
   "source": []
  },
  {
   "cell_type": "code",
   "execution_count": null,
   "metadata": {
    "collapsed": true
   },
   "outputs": [],
   "source": []
  }
 ],
 "metadata": {
  "kernelspec": {
   "display_name": "Python 3",
   "language": "python",
   "name": "python3"
  },
  "language_info": {
   "codemirror_mode": {
    "name": "ipython",
    "version": 3
   },
   "file_extension": ".py",
   "mimetype": "text/x-python",
   "name": "python",
   "nbconvert_exporter": "python",
   "pygments_lexer": "ipython3",
   "version": "3.6.0"
  }
 },
 "nbformat": 4,
 "nbformat_minor": 2
}
