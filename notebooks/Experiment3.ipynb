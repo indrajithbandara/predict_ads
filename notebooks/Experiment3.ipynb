{
 "cells": [
  {
   "cell_type": "code",
   "execution_count": 1,
   "metadata": {
    "collapsed": true
   },
   "outputs": [],
   "source": [
    "%matplotlib inline\n",
    "\n",
    "import pandas as pd\n",
    "import numpy as np\n",
    "\n",
    "import time\n",
    "import gc\n",
    "\n",
    "from sklearn.ensemble import RandomForestClassifier\n",
    "from sklearn.linear_model import LogisticRegression\n",
    "from sklearn.metrics import roc_auc_score\n",
    "\n",
    "import xgboost as xgb\n",
    "\n",
    "SEED = 9719\n",
    "np.random.seed(SEED)\n",
    "\n",
    "import warnings\n",
    "warnings.filterwarnings('ignore')\n",
    "\n",
    "%run ../src/data/load_dataset.py\n",
    "%run ../src/models/cross_validation.py\n",
    "%run ../src/features/build_features.py"
   ]
  },
  {
   "cell_type": "markdown",
   "metadata": {},
   "source": [
    "** Load Dataset **"
   ]
  },
  {
   "cell_type": "code",
   "execution_count": 2,
   "metadata": {
    "collapsed": false
   },
   "outputs": [
    {
     "name": "stdout",
     "output_type": "stream",
     "text": [
      "Took: 37.995780999999994 seconds to load dataset\n"
     ]
    }
   ],
   "source": [
    "st = time.clock()\n",
    "train, test = load('../data/raw/205e1808-6-dataset/train.csv',\n",
    "                   '../data/raw/205e1808-6-dataset/test.csv',\n",
    "                   include_dtypes=True\n",
    "                  )\n",
    "et = time.clock()\n",
    "\n",
    "print('Took: {} seconds to load dataset'.format((et - st)))"
   ]
  },
  {
   "cell_type": "markdown",
   "metadata": {},
   "source": [
    "** Prepare Features **"
   ]
  },
  {
   "cell_type": "code",
   "execution_count": 3,
   "metadata": {
    "collapsed": false
   },
   "outputs": [
    {
     "name": "stdout",
     "output_type": "stream",
     "text": [
      "Took: 25.46125 seconds to prepare features\n"
     ]
    }
   ],
   "source": [
    "st = time.clock()\n",
    "train, test = create_features(train, test)\n",
    "et = time.clock()\n",
    "\n",
    "print('Took: {} seconds to prepare features'.format((et - st)))"
   ]
  },
  {
   "cell_type": "markdown",
   "metadata": {},
   "source": [
    "** Create feature matrix and target vector **"
   ]
  },
  {
   "cell_type": "code",
   "execution_count": 4,
   "metadata": {
    "collapsed": true
   },
   "outputs": [],
   "source": [
    "features = ['hour_of_day', 'prime_time', 'siteid_count']"
   ]
  },
  {
   "cell_type": "code",
   "execution_count": 4,
   "metadata": {
    "collapsed": true
   },
   "outputs": [],
   "source": [
    "X  = train.loc[:, features]\n",
    "y  = train['click']\n",
    "\n",
    "Xtest = test.loc[:, features]"
   ]
  },
  {
   "cell_type": "markdown",
   "metadata": {},
   "source": [
    "** Cross Validation Scheme **"
   ]
  },
  {
   "cell_type": "code",
   "execution_count": 9,
   "metadata": {
    "collapsed": false
   },
   "outputs": [],
   "source": [
    "training_mask   = (train.datetime < '2017/01/14') | (train.datetime > '2017/01/16')\n",
    "validation_mask = ~training_mask\n",
    "\n",
    "X_train, X_val, y_train, y_val = create_splits(X, y, training_mask, validation_mask, None)"
   ]
  },
  {
   "cell_type": "markdown",
   "metadata": {},
   "source": [
    "** Train Models **"
   ]
  },
  {
   "cell_type": "code",
   "execution_count": 12,
   "metadata": {
    "collapsed": false
   },
   "outputs": [
    {
     "name": "stdout",
     "output_type": "stream",
     "text": [
      "ROC AUC score on validation set: 0.841431183578659\n"
     ]
    }
   ],
   "source": [
    "st = time.clock()\n",
    "rf = RandomForestClassifier(max_depth=5, random_state=SEED, n_jobs=3)\n",
    "rf.fit(X_train, y_train)\n",
    "et = time.clock()\n",
    "\n",
    "print('Took: {} seconds to train model'.format((et - st)))\n",
    "\n",
    "preds = rf.predict_proba(X_val)[:, 1]\n",
    "print('ROC AUC score on validation set: {}'.format(roc_auc_score(y_val, preds)))"
   ]
  },
  {
   "cell_type": "markdown",
   "metadata": {},
   "source": [
    "** Full Training **"
   ]
  },
  {
   "cell_type": "code",
   "execution_count": 5,
   "metadata": {
    "collapsed": false
   },
   "outputs": [
    {
     "name": "stdout",
     "output_type": "stream",
     "text": [
      "Took: 138.86973 seconds to train model\n"
     ]
    }
   ],
   "source": [
    "st = time.clock()\n",
    "rf = RandomForestClassifier(max_depth=5, random_state=SEED, n_jobs=3)\n",
    "rf.fit(train.loc[:, features], train['click'])\n",
    "et = time.clock()\n",
    "\n",
    "print('Took: {} seconds to train model'.format((et - st)))\n",
    "\n",
    "final_preds = rf.predict_proba(test.loc[:, features])[:, 1]"
   ]
  },
  {
   "cell_type": "code",
   "execution_count": 7,
   "metadata": {
    "collapsed": false
   },
   "outputs": [
    {
     "data": {
      "text/plain": [
       "73"
      ]
     },
     "execution_count": 7,
     "metadata": {},
     "output_type": "execute_result"
    }
   ],
   "source": [
    "del train\n",
    "gc.collect()"
   ]
  },
  {
   "cell_type": "code",
   "execution_count": 12,
   "metadata": {
    "collapsed": false
   },
   "outputs": [],
   "source": [
    "sub = pd.read_csv('../data/raw/205e1808-6-dataset/sample_submission.csv')\n",
    "# sub.loc[:, 'ID']    = test.ID\n",
    "# sub.loc[:, 'click'] = final_preds\n",
    "\n",
    "# sub.to_csv('../submissions/rf_siteid_count.csv', index=False)\n",
    "# !zip '../submissions/rf_siteid_count.csv.zip' '../submissions/rf_siteid_count.csv'\n",
    "# !rm '../submissions/rf_siteid_count.csv'"
   ]
  },
  {
   "cell_type": "code",
   "execution_count": 14,
   "metadata": {
    "collapsed": false
   },
   "outputs": [
    {
     "data": {
      "text/html": [
       "<div>\n",
       "<table border=\"1\" class=\"dataframe\">\n",
       "  <thead>\n",
       "    <tr style=\"text-align: right;\">\n",
       "      <th></th>\n",
       "      <th>ID</th>\n",
       "      <th>click</th>\n",
       "    </tr>\n",
       "  </thead>\n",
       "  <tbody>\n",
       "    <tr>\n",
       "      <th>0</th>\n",
       "      <td>IDE4beP</td>\n",
       "      <td>0.5</td>\n",
       "    </tr>\n",
       "    <tr>\n",
       "      <th>1</th>\n",
       "      <td>IDfo26Y</td>\n",
       "      <td>0.5</td>\n",
       "    </tr>\n",
       "    <tr>\n",
       "      <th>2</th>\n",
       "      <td>IDYZM6I</td>\n",
       "      <td>0.5</td>\n",
       "    </tr>\n",
       "    <tr>\n",
       "      <th>3</th>\n",
       "      <td>ID8CVw1</td>\n",
       "      <td>0.5</td>\n",
       "    </tr>\n",
       "    <tr>\n",
       "      <th>4</th>\n",
       "      <td>IDPltMK</td>\n",
       "      <td>0.5</td>\n",
       "    </tr>\n",
       "    <tr>\n",
       "      <th>5</th>\n",
       "      <td>IDaFVqz</td>\n",
       "      <td>0.5</td>\n",
       "    </tr>\n",
       "  </tbody>\n",
       "</table>\n",
       "</div>"
      ],
      "text/plain": [
       "        ID  click\n",
       "0  IDE4beP    0.5\n",
       "1  IDfo26Y    0.5\n",
       "2  IDYZM6I    0.5\n",
       "3  ID8CVw1    0.5\n",
       "4  IDPltMK    0.5\n",
       "5  IDaFVqz    0.5"
      ]
     },
     "execution_count": 14,
     "metadata": {},
     "output_type": "execute_result"
    }
   ],
   "source": [
    "sub.head(6)"
   ]
  },
  {
   "cell_type": "code",
   "execution_count": 15,
   "metadata": {
    "collapsed": false
   },
   "outputs": [],
   "source": [
    "sub.loc[:, 'ID']    = test.ID\n",
    "sub.loc[:, 'click'] = final_preds "
   ]
  },
  {
   "cell_type": "code",
   "execution_count": 17,
   "metadata": {
    "collapsed": false
   },
   "outputs": [],
   "source": [
    "sub.to_csv('../submissions/rf_siteid_count.csv', index=False)"
   ]
  },
  {
   "cell_type": "code",
   "execution_count": null,
   "metadata": {
    "collapsed": true
   },
   "outputs": [],
   "source": []
  }
 ],
 "metadata": {
  "kernelspec": {
   "display_name": "Python 3",
   "language": "python",
   "name": "python3"
  },
  "language_info": {
   "codemirror_mode": {
    "name": "ipython",
    "version": 3
   },
   "file_extension": ".py",
   "mimetype": "text/x-python",
   "name": "python",
   "nbconvert_exporter": "python",
   "pygments_lexer": "ipython3",
   "version": "3.6.0"
  }
 },
 "nbformat": 4,
 "nbformat_minor": 2
}
