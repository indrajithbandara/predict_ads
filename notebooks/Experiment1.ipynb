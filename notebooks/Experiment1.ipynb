{
 "cells": [
  {
   "cell_type": "code",
   "execution_count": 51,
   "metadata": {
    "collapsed": false
   },
   "outputs": [],
   "source": [
    "%matplotlib inline\n",
    "\n",
    "import pandas as pd\n",
    "import numpy as np\n",
    "import scipy as sp\n",
    "import time\n",
    "import gc\n",
    "\n",
    "from csv import DictReader\n",
    "\n",
    "import matplotlib.pyplot as plt\n",
    "import seaborn as sns\n",
    "\n",
    "SEED = 972\n",
    "np.random.seed(SEED)\n",
    "\n",
    "import warnings\n",
    "warnings.filterwarnings('ignore')"
   ]
  },
  {
   "cell_type": "markdown",
   "metadata": {},
   "source": [
    "** Load Training data **"
   ]
  },
  {
   "cell_type": "code",
   "execution_count": 38,
   "metadata": {
    "collapsed": true
   },
   "outputs": [],
   "source": [
    "dtypes = {\n",
    "    'siteid' : 'float32',\n",
    "    'offerid': 'uint32',\n",
    "    'category': 'uint32',\n",
    "    'merchant': 'uint32'\n",
    "}"
   ]
  },
  {
   "cell_type": "code",
   "execution_count": 44,
   "metadata": {
    "collapsed": false
   },
   "outputs": [],
   "source": [
    "train = pd.read_csv('../data/raw/205e1808-6-dataset/train.csv', \n",
    "                   dtype=dtypes, \n",
    "                   parse_dates=['datetime'])"
   ]
  },
  {
   "cell_type": "markdown",
   "metadata": {},
   "source": [
    "** Follow the regularized leader algorithm (FTRL) **"
   ]
  },
  {
   "cell_type": "code",
   "execution_count": 96,
   "metadata": {
    "collapsed": true
   },
   "outputs": [],
   "source": [
    "train = pd.read_csv('../data/raw/205e1808-6-dataset/train.csv', nrows=2, parse_dates=['datetime'])"
   ]
  },
  {
   "cell_type": "code",
   "execution_count": 124,
   "metadata": {
    "collapsed": false
   },
   "outputs": [],
   "source": [
    "class ftrl(object):\n",
    "    \n",
    "    def __init__(self, alpha, beta, l1, l2, bits):\n",
    "        self.z = [0.] * bits\n",
    "        self.n = [0.] * bits\n",
    "        self.alpha = alpha\n",
    "        self.beta  = beta\n",
    "        self.l1    = l1\n",
    "        self.l2    = l2\n",
    "        self.w     = {}\n",
    "        self.X     = []\n",
    "        self.y     = 0.\n",
    "        self.bits  = bits\n",
    "        self.Prediction = 0.\n",
    "        \n",
    "    def sgn(self, x):\n",
    "        return -1 if x < 0 else 1\n",
    "    \n",
    "    def fit(self, line):\n",
    "        try:\n",
    "            self.ID = line['ID']\n",
    "            del line['ID']\n",
    "        except:\n",
    "            pass\n",
    "        \n",
    "        try:\n",
    "            self.y = float(line['click'])\n",
    "            del line['click']\n",
    "        except:\n",
    "            pass\n",
    "        \n",
    "        date_ = pd.to_datetime(line['datetime'])\n",
    "        \n",
    "        line['weekday'] = str(date_.weekday())\n",
    "        line['month']   = str(date_.month)\n",
    "        line['minute']  = str(date_.minute)\n",
    "        line['hour']    = str(date_.hour)\n",
    "        line['devid']   = str(int(pd.isnull(line['devid'])))\n",
    "        \n",
    "        if pd.isnull(line['siteid']):\n",
    "            line['siteid'] = '-1'\n",
    "        \n",
    "        del line['datetime']\n",
    "        \n",
    "        self.X = [0.] * len(line)\n",
    "        \n",
    "        for i, key in enumerate(line):\n",
    "            val = line[key]\n",
    "            self.X[i] = (np.abs(hash(key + '_' + val)) % self.bits)\n",
    "        \n",
    "        self.X = [0] + self.X # add bias\n",
    "        \n",
    "    def logloss(self):\n",
    "        act  = self.y\n",
    "        pred = self.Prediction\n",
    "        predicted = np.max(np.min(pred, 1 - 10e-15), 10e-15)\n",
    "        return -np.log(predicted) if act == 1. else -np.log(1. - predicted)\n",
    "    \n",
    "    def predict(self):\n",
    "        W_dot_x = 0.\n",
    "        w = {}\n",
    "        \n",
    "        for i in self.X:\n",
    "            if np.abs(self.z[i]) <= self.l1:\n",
    "                w[i] = 0.\n",
    "            else:\n",
    "                w[i] = (self.sgn(self.z[i]) * self.l1 - self.z[i]) / (((self.beta + np.sqrt(self.n[i]))/self.alpha) + self.l2)\n",
    "        W_dot_x += w[i]\n",
    "        self.w = w\n",
    "        self.Prediction = 1. / (1. + np.exp(-max(min(W_dot_x, 35.), -35.)))\n",
    "        return self.Prediction\n",
    "    \n",
    "    def update(self, prediction): \n",
    "        for i in self.X:\n",
    "            g = (prediction - self.y)\n",
    "            sigma = (1./self.alpha) * (np.sqrt(self.n[i] + g*g) - np.sqrt(self.n[i]))\n",
    "            self.z[i] += g - sigma*self.w[i]\n",
    "            self.n[i] += g*g"
   ]
  },
  {
   "cell_type": "code",
   "execution_count": 127,
   "metadata": {
    "collapsed": false
   },
   "outputs": [
    {
     "name": "stdout",
     "output_type": "stream",
     "text": [
      "(seen, loss) :  (5000, 0.22679601944755087)\n",
      "(seen, loss) :  (10000, 0.19307957606892959)\n",
      "(seen, loss) :  (15000, 0.18312349018874596)\n",
      "(seen, loss) :  (20000, 0.18276863887671957)\n",
      "(seen, loss) :  (25000, 0.17849977872131981)\n",
      "(seen, loss) :  (30000, 0.1745878825083553)\n",
      "(seen, loss) :  (35000, 0.17465992009385048)\n",
      "(seen, loss) :  (40000, 0.17541352348168757)\n",
      "(seen, loss) :  (45000, 0.17558311812843627)\n",
      "(seen, loss) :  (50000, 0.17427533036161424)\n",
      "(seen, loss) :  (55000, 0.17393752062913417)\n",
      "(seen, loss) :  (60000, 0.17436700985674106)\n",
      "(seen, loss) :  (65000, 0.17468913055092822)\n",
      "(seen, loss) :  (70000, 0.17392349608862012)\n",
      "(seen, loss) :  (75000, 0.17522305062358179)\n",
      "(seen, loss) :  (80000, 0.1752200586393593)\n",
      "(seen, loss) :  (85000, 0.17565181064600319)\n",
      "(seen, loss) :  (90000, 0.17522109608046696)\n",
      "(seen, loss) :  (95000, 0.17468896285493066)\n",
      "(seen, loss) :  (100000, 0.17531834464450538)\n",
      "Took: 23.362483999999995 seconds to generate\n"
     ]
    }
   ],
   "source": [
    "clf = ftrl(alpha = 0.05, \n",
    "           beta = 0.1, \n",
    "           l1 = .1,\n",
    "           l2 = .1, \n",
    "           bits = 20)\n",
    "\n",
    "loss = 0.\n",
    "count = 0\n",
    "\n",
    "st = time.clock()\n",
    "\n",
    "for t, line in enumerate(DictReader(open('../data/raw/205e1808-6-dataset/train.csv'), delimiter=',')):\n",
    "    clf.fit(line)\n",
    "    pred = clf.predict()\n",
    "    loss += clf.logloss()\n",
    "    clf.update(pred)\n",
    "    count += 1\n",
    "    if count%5000 == 0: \n",
    "        print (\"(seen, loss) : \", (count, loss * 1./count))\n",
    "        \n",
    "    if count == 100000:\n",
    "        break\n",
    "        \n",
    "# test = '../data/raw/205e1808-6-dataset/test.csv'\n",
    "# with open('../data/interim/temp.csv', 'w') as output:\n",
    "#     for t, line in enumerate(DictReader(open(test), delimiter=',')):\n",
    "#         clf.fit(line)\n",
    "#         output.write('%s\\n' % str(clf.predict()))\n",
    "    \n",
    "#     output.close()\n",
    "et = time.clock()\n",
    "\n",
    "print('Took: {} seconds to generate'.format((et - st)))"
   ]
  },
  {
   "cell_type": "code",
   "execution_count": 66,
   "metadata": {
    "collapsed": true
   },
   "outputs": [],
   "source": []
  },
  {
   "cell_type": "code",
   "execution_count": 88,
   "metadata": {
    "collapsed": false
   },
   "outputs": [],
   "source": [
    "# load submission\n",
    "sub   = pd.read_csv('../data/raw/205e1808-6-dataset/sample_submission.csv')\n",
    "probs = pd.read_csv('../data/interim/temp.csv', header=None) "
   ]
  },
  {
   "cell_type": "code",
   "execution_count": 90,
   "metadata": {
    "collapsed": false
   },
   "outputs": [],
   "source": [
    "sub.loc[:, 'click'] = probs[0]"
   ]
  },
  {
   "cell_type": "code",
   "execution_count": 91,
   "metadata": {
    "collapsed": false
   },
   "outputs": [],
   "source": [
    "sub.to_csv('../submissions/baseline_submission_1.csv', index=False)"
   ]
  },
  {
   "cell_type": "code",
   "execution_count": 92,
   "metadata": {
    "collapsed": false
   },
   "outputs": [
    {
     "name": "stdout",
     "output_type": "stream",
     "text": [
      "  adding: ../submissions/baseline_submission_1.csv (deflated 76%)\n"
     ]
    }
   ],
   "source": [
    "!zip '../submissions/baseline_submission_1.csv.zip' '../submissions/baseline_submission_1.csv'"
   ]
  },
  {
   "cell_type": "code",
   "execution_count": null,
   "metadata": {
    "collapsed": true
   },
   "outputs": [],
   "source": []
  },
  {
   "cell_type": "code",
   "execution_count": null,
   "metadata": {
    "collapsed": true
   },
   "outputs": [],
   "source": []
  },
  {
   "cell_type": "code",
   "execution_count": null,
   "metadata": {
    "collapsed": true
   },
   "outputs": [],
   "source": []
  }
 ],
 "metadata": {
  "kernelspec": {
   "display_name": "Python 3",
   "language": "python",
   "name": "python3"
  },
  "language_info": {
   "codemirror_mode": {
    "name": "ipython",
    "version": 3
   },
   "file_extension": ".py",
   "mimetype": "text/x-python",
   "name": "python",
   "nbconvert_exporter": "python",
   "pygments_lexer": "ipython3",
   "version": "3.6.0"
  }
 },
 "nbformat": 4,
 "nbformat_minor": 2
}
